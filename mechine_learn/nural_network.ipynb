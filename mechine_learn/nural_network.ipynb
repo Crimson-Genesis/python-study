{
 "cells": [
  {
   "cell_type": "markdown",
   "id": "f33e9b5b-0f8d-46b0-b8a6-d99b299568d9",
   "metadata": {
    "panel-layout": {
     "height": 60.59375,
     "visible": true,
     "width": 100
    }
   },
   "source": [
    "# Import"
   ]
  },
  {
   "cell_type": "code",
   "execution_count": 192,
   "id": "a641bcad-f203-4ddb-b94a-d1694a790dcb",
   "metadata": {
    "panel-layout": {
     "height": 0,
     "visible": true,
     "width": 100
    }
   },
   "outputs": [],
   "source": [
    "from numpy.random import seed\n",
    "seed(888)\n",
    "from tensorflow.random import set_seed\n",
    "set_seed(404)\n",
    "import os\n",
    "import numpy as np\n",
    "import tensorflow as tf\n",
    "import keras\n",
    "from keras.datasets import cifar10\n",
    "from IPython.display import display\n",
    "from keras.preprocessing.image import array_to_img\n",
    "import matplotlib.pyplot as plt\n",
    "from keras.models import Sequential\n",
    "from keras.layers import Dense, Activation, Dropout\n",
    "from keras import Input\n",
    "from keras.api.callbacks import TensorBoard \n",
    "from sklearn.metrics import confusion_matrix\n",
    "from itertools import product\n",
    "\n",
    "from time import strftime\n",
    "\n",
    "%matplotlib inline"
   ]
  },
  {
   "cell_type": "markdown",
   "id": "106abf4e-9712-4527-b2fc-a4ad520f86ad",
   "metadata": {},
   "source": [
    "# CONSTANT"
   ]
  },
  {
   "cell_type": "code",
   "execution_count": null,
   "id": "c1a7d9d3-4c82-4e56-a96d-a17a24f9c928",
   "metadata": {},
   "outputs": [],
   "source": [
    "LOG_DIR = \"Tensorboard/\"\n",
    "IMAGE_WIDTH = 32\n",
    "IMAGE_HIGHT = 32\n",
    "IMAGE_PIXELS = IMAGE_HIGHT*IMAGE_WIDTH\n",
    "COLOR_CHANNELS = 3\n",
    "TOTAL_INPUT = IMAGE_PIXELS * COLOR_CHANNELS\n",
    "VALIDATION_SIZE = 10000\n",
    "SMALL_TRAIN_SIZE = 1000\n",
    "OUTPUT_UNITS = 128\n",
    "LABLES = {\n",
    "0 : \"Airplane\",\n",
    "1 : \"Automobile\",\n",
    "2 : \"Bird\",\n",
    "3 : \"Cat\",\n",
    "4 : \"Deer\",\n",
    "5 : \"Dog\",\n",
    "6 : \"Frog\",\n",
    "7 : \"Horse\",\n",
    "8 : \"Ship\",\n",
    "9 : \"Truck\",\n",
    "}"
   ]
  },
  {
   "cell_type": "markdown",
   "id": "be788b85-0ea0-4dc1-b4de-8f47d2238091",
   "metadata": {
    "panel-layout": {
     "height": 60.59375,
     "visible": true,
     "width": 100
    }
   },
   "source": [
    "# Get Data"
   ]
  },
  {
   "cell_type": "code",
   "execution_count": null,
   "id": "fc91ca03-4690-4095-91ab-275afec0aa14",
   "metadata": {},
   "outputs": [],
   "source": [
    "(x_train_all, y_train_all), (x_test_all, y_test_all) = cifar10.load_data()"
   ]
  },
  {
   "cell_type": "code",
   "execution_count": null,
   "id": "71a6e1c9-7705-4a3a-8dd4-1aca5daca097",
   "metadata": {
    "scrolled": true
   },
   "outputs": [],
   "source": [
    "x_train_all[0]"
   ]
  },
  {
   "cell_type": "code",
   "execution_count": null,
   "id": "ffdeb1dd-0b57-431f-9fad-8ec22910fcc1",
   "metadata": {},
   "outputs": [],
   "source": [
    "pic = array_to_img(x_train_all[7])\n",
    "display(pic)"
   ]
  },
  {
   "cell_type": "code",
   "execution_count": null,
   "id": "37ed36be-6a17-4a1b-9d37-83a855541fee",
   "metadata": {},
   "outputs": [],
   "source": [
    "y_train_all.shape"
   ]
  },
  {
   "cell_type": "code",
   "execution_count": null,
   "id": "19a91f07-e17c-4c02-9baf-cba99dad891b",
   "metadata": {},
   "outputs": [],
   "source": [
    "II = y_train_all[7][0]\n",
    "LABLES[II]"
   ]
  },
  {
   "cell_type": "code",
   "execution_count": null,
   "id": "79bf718b-56e2-4849-a232-1b90c2ad3004",
   "metadata": {},
   "outputs": [],
   "source": [
    "plt.figure(figsize=(15,5))\n",
    "for i in range(10):\n",
    "    plt.subplot(1,10,i+1)\n",
    "    plt.xticks([])\n",
    "    plt.yticks([])\n",
    "    plt.imshow(x_train_all[i])\n",
    "    plt.xlabel(LABLES[y_train_all[i][0]], fontsize=10)\n",
    "plt.show()"
   ]
  },
  {
   "cell_type": "code",
   "execution_count": null,
   "id": "ade75bb6-0c29-4ea0-86eb-825404ed1949",
   "metadata": {},
   "outputs": [],
   "source": [
    "LABLES[y_train_all[4][0]]"
   ]
  },
  {
   "cell_type": "code",
   "execution_count": null,
   "id": "b2d93af1-5466-49fb-bf7f-b9ee6f699c19",
   "metadata": {},
   "outputs": [],
   "source": [
    "x_train_all[0][0][0]"
   ]
  },
  {
   "cell_type": "code",
   "execution_count": null,
   "id": "36ce801e-0e3f-4fa7-83f2-c85057fb7eda",
   "metadata": {},
   "outputs": [],
   "source": [
    "x_train_all, x_test_all = x_train_all / 255.0, x_test_all / 255.0"
   ]
  },
  {
   "cell_type": "code",
   "execution_count": null,
   "id": "bf8fade6-c198-49c9-835b-bebda9f99283",
   "metadata": {},
   "outputs": [],
   "source": [
    "x_train_all[0][0][0]"
   ]
  },
  {
   "cell_type": "code",
   "execution_count": null,
   "id": "885d8fc8-8c85-4aee-8b05-99a55649ce86",
   "metadata": {},
   "outputs": [],
   "source": [
    "x_train_all = x_train_all.reshape(x_train_all.shape[0], TOTAL_INPUT)"
   ]
  },
  {
   "cell_type": "code",
   "execution_count": null,
   "id": "85ee7e9b-d3af-4abb-b29a-3a8e4e1b8444",
   "metadata": {},
   "outputs": [],
   "source": [
    "x_train_all.shape"
   ]
  },
  {
   "cell_type": "code",
   "execution_count": 153,
   "id": "4c0ff2af-96cf-41d5-b4c5-b83412e41656",
   "metadata": {},
   "outputs": [],
   "source": [
    "x_test = x_test_all.reshape(x_test_all.shape[0], TOTAL_INPUT)"
   ]
  },
  {
   "cell_type": "code",
   "execution_count": 157,
   "id": "263796aa-738e-4292-84d9-ecc98af4c9b3",
   "metadata": {},
   "outputs": [],
   "source": [
    "y_test = y_test_all"
   ]
  },
  {
   "cell_type": "code",
   "execution_count": 154,
   "id": "4af2a882-cb0d-4c85-ac63-23055738ccf8",
   "metadata": {},
   "outputs": [
    {
     "data": {
      "text/plain": [
       "(10000, 3072)"
      ]
     },
     "execution_count": 154,
     "metadata": {},
     "output_type": "execute_result"
    }
   ],
   "source": [
    "x_test.shape"
   ]
  },
  {
   "cell_type": "markdown",
   "id": "441268c1-2ef8-4555-b39c-525d62c911d0",
   "metadata": {},
   "source": [
    "### Create Validation Data."
   ]
  },
  {
   "cell_type": "code",
   "execution_count": null,
   "id": "0ad41b31-b750-4592-87a7-4769b3619f55",
   "metadata": {},
   "outputs": [],
   "source": [
    "x_val = x_train_all[:VALIDATION_SIZE]\n",
    "y_val = y_train_all[:VALIDATION_SIZE]"
   ]
  },
  {
   "cell_type": "code",
   "execution_count": 148,
   "id": "c25dacf3-45b1-4f33-9ff4-dedb541d7a95",
   "metadata": {},
   "outputs": [
    {
     "name": "stdout",
     "output_type": "stream",
     "text": [
      "(40000, 3072)\n",
      "(40000, 1)\n"
     ]
    }
   ],
   "source": [
    "x_train = x_train_all[VALIDATION_SIZE:]\n",
    "y_train = y_train_all[VALIDATION_SIZE:]\n",
    "print(x_train.shape)\n",
    "print(y_train.shape)"
   ]
  },
  {
   "cell_type": "markdown",
   "id": "66abc7ef-c224-4bc3-8d52-d2b51d16248a",
   "metadata": {},
   "source": [
    "### Create a Small Dataset.(For Illustration.)"
   ]
  },
  {
   "cell_type": "code",
   "execution_count": null,
   "id": "e00edd25-5141-4b0a-8571-31d71886b878",
   "metadata": {},
   "outputs": [],
   "source": [
    "x_train_xs = x_train[:SMALL_TRAIN_SIZE]\n",
    "y_train_xs = y_train[:SMALL_TRAIN_SIZE]"
   ]
  },
  {
   "cell_type": "markdown",
   "id": "c1a2f797-43c6-46de-ac91-49bbb2c07c1c",
   "metadata": {},
   "source": [
    "# Define the Nural Network using Keras."
   ]
  },
  {
   "cell_type": "code",
   "execution_count": 128,
   "id": "91590dd0-bd67-4370-a1f2-1e12bf7f42c8",
   "metadata": {},
   "outputs": [],
   "source": [
    "model_1 = Sequential()\n",
    "model_1.add(Input(shape=(TOTAL_INPUT,)))\n",
    "model_1.add(Dense(units=128, activation=\"relu\", name=\"M1_Hidden_1\"))\n",
    "model_1.add(Dense(units=64, activation=\"relu\", name=\"M1_Hidden_2\"))\n",
    "model_1.add(Dense(units=16, activation=\"relu\", name=\"M1_Hidden_3\"))\n",
    "model_1.add(Dense(units=10, activation=\"softmax\", name=\"M1_Output\"))\n",
    "model_1.compile(optimizer=\"adam\",\n",
    "                loss=\"sparse_categorical_crossentropy\", \n",
    "                metrics=['accuracy'],\n",
    "                )\n"
   ]
  },
  {
   "cell_type": "code",
   "execution_count": 129,
   "id": "684a0543-5071-4f55-bfd2-50cd96cdba84",
   "metadata": {},
   "outputs": [],
   "source": [
    "model_2 = Sequential()\n",
    "# model_2.add(Input(shape=(TOTAL_INPUT,)))\n",
    "model_2.add(Dropout(rate=0.2, seed=42))\n",
    "model_2.add(Dense(units=128, activation=\"relu\", name=\"M2_Hidden_1\"))\n",
    "model_2.add(Dense(units=64, activation=\"relu\", name=\"M2_Hidden_2\"))\n",
    "model_2.add(Dense(units=16, activation=\"relu\", name=\"M2_Hidden_3\"))\n",
    "model_2.add(Dense(units=10, activation=\"softmax\", name=\"M2_Output\"))\n",
    "model_2.compile(optimizer=\"adam\",\n",
    "                loss=\"sparse_categorical_crossentropy\", \n",
    "                metrics=['accuracy'],\n",
    "                )\n"
   ]
  },
  {
   "cell_type": "code",
   "execution_count": 130,
   "id": "cc24ecc4-569b-41c1-9c11-24e8b47c8cb3",
   "metadata": {},
   "outputs": [],
   "source": [
    "model_3 = Sequential()\n",
    "# model_2.add(Input(shape=(TOTAL_INPUT,)))\n",
    "model_3.add(Dropout(rate=0.2, seed=42))\n",
    "model_3.add(Dense(units=128, activation=\"relu\", name=\"M3_Hidden_1\"))\n",
    "model_3.add(Dropout(rate=0.25, seed=42))\n",
    "model_3.add(Dense(units=64, activation=\"relu\", name=\"M3_Hidden_2\"))\n",
    "model_3.add(Dense(units=16, activation=\"relu\", name=\"M3_Hidden_3\"))\n",
    "model_3.add(Dense(units=10, activation=\"softmax\", name=\"M3_Output\"))\n",
    "model_3.compile(optimizer=\"adam\",\n",
    "                loss=\"sparse_categorical_crossentropy\", \n",
    "                metrics=['accuracy'],\n",
    "                )\n"
   ]
  },
  {
   "cell_type": "code",
   "execution_count": 82,
   "id": "e2d9ecc4-08c8-45e9-b335-d756b26e584b",
   "metadata": {},
   "outputs": [
    {
     "data": {
      "text/plain": [
       "keras.src.models.sequential.Sequential"
      ]
     },
     "execution_count": 82,
     "metadata": {},
     "output_type": "execute_result"
    }
   ],
   "source": [
    "type(model_1)"
   ]
  },
  {
   "cell_type": "code",
   "execution_count": 83,
   "id": "3e99093b-166f-45dc-a708-3a4654605c81",
   "metadata": {},
   "outputs": [
    {
     "data": {
      "text/html": [
       "<pre style=\"white-space:pre;overflow-x:auto;line-height:normal;font-family:Menlo,'DejaVu Sans Mono',consolas,'Courier New',monospace\"><span style=\"font-weight: bold\">Model: \"sequential_29\"</span>\n",
       "</pre>\n"
      ],
      "text/plain": [
       "\u001b[1mModel: \"sequential_29\"\u001b[0m\n"
      ]
     },
     "metadata": {},
     "output_type": "display_data"
    },
    {
     "data": {
      "text/html": [
       "<pre style=\"white-space:pre;overflow-x:auto;line-height:normal;font-family:Menlo,'DejaVu Sans Mono',consolas,'Courier New',monospace\">┏━━━━━━━━━━━━━━━━━━━━━━━━━━━━━━━━━┳━━━━━━━━━━━━━━━━━━━━━━━━┳━━━━━━━━━━━━━━━┓\n",
       "┃<span style=\"font-weight: bold\"> Layer (type)                    </span>┃<span style=\"font-weight: bold\"> Output Shape           </span>┃<span style=\"font-weight: bold\">       Param # </span>┃\n",
       "┡━━━━━━━━━━━━━━━━━━━━━━━━━━━━━━━━━╇━━━━━━━━━━━━━━━━━━━━━━━━╇━━━━━━━━━━━━━━━┩\n",
       "│ M1_Hidden_1 (<span style=\"color: #0087ff; text-decoration-color: #0087ff\">Dense</span>)             │ (<span style=\"color: #00d7ff; text-decoration-color: #00d7ff\">None</span>, <span style=\"color: #00af00; text-decoration-color: #00af00\">128</span>)            │       <span style=\"color: #00af00; text-decoration-color: #00af00\">393,344</span> │\n",
       "├─────────────────────────────────┼────────────────────────┼───────────────┤\n",
       "│ M1_Hidden_2 (<span style=\"color: #0087ff; text-decoration-color: #0087ff\">Dense</span>)             │ (<span style=\"color: #00d7ff; text-decoration-color: #00d7ff\">None</span>, <span style=\"color: #00af00; text-decoration-color: #00af00\">64</span>)             │         <span style=\"color: #00af00; text-decoration-color: #00af00\">8,256</span> │\n",
       "├─────────────────────────────────┼────────────────────────┼───────────────┤\n",
       "│ M1_Hidden_3 (<span style=\"color: #0087ff; text-decoration-color: #0087ff\">Dense</span>)             │ (<span style=\"color: #00d7ff; text-decoration-color: #00d7ff\">None</span>, <span style=\"color: #00af00; text-decoration-color: #00af00\">16</span>)             │         <span style=\"color: #00af00; text-decoration-color: #00af00\">1,040</span> │\n",
       "├─────────────────────────────────┼────────────────────────┼───────────────┤\n",
       "│ M1_Output (<span style=\"color: #0087ff; text-decoration-color: #0087ff\">Dense</span>)               │ (<span style=\"color: #00d7ff; text-decoration-color: #00d7ff\">None</span>, <span style=\"color: #00af00; text-decoration-color: #00af00\">10</span>)             │           <span style=\"color: #00af00; text-decoration-color: #00af00\">170</span> │\n",
       "└─────────────────────────────────┴────────────────────────┴───────────────┘\n",
       "</pre>\n"
      ],
      "text/plain": [
       "┏━━━━━━━━━━━━━━━━━━━━━━━━━━━━━━━━━┳━━━━━━━━━━━━━━━━━━━━━━━━┳━━━━━━━━━━━━━━━┓\n",
       "┃\u001b[1m \u001b[0m\u001b[1mLayer (type)                   \u001b[0m\u001b[1m \u001b[0m┃\u001b[1m \u001b[0m\u001b[1mOutput Shape          \u001b[0m\u001b[1m \u001b[0m┃\u001b[1m \u001b[0m\u001b[1m      Param #\u001b[0m\u001b[1m \u001b[0m┃\n",
       "┡━━━━━━━━━━━━━━━━━━━━━━━━━━━━━━━━━╇━━━━━━━━━━━━━━━━━━━━━━━━╇━━━━━━━━━━━━━━━┩\n",
       "│ M1_Hidden_1 (\u001b[38;5;33mDense\u001b[0m)             │ (\u001b[38;5;45mNone\u001b[0m, \u001b[38;5;34m128\u001b[0m)            │       \u001b[38;5;34m393,344\u001b[0m │\n",
       "├─────────────────────────────────┼────────────────────────┼───────────────┤\n",
       "│ M1_Hidden_2 (\u001b[38;5;33mDense\u001b[0m)             │ (\u001b[38;5;45mNone\u001b[0m, \u001b[38;5;34m64\u001b[0m)             │         \u001b[38;5;34m8,256\u001b[0m │\n",
       "├─────────────────────────────────┼────────────────────────┼───────────────┤\n",
       "│ M1_Hidden_3 (\u001b[38;5;33mDense\u001b[0m)             │ (\u001b[38;5;45mNone\u001b[0m, \u001b[38;5;34m16\u001b[0m)             │         \u001b[38;5;34m1,040\u001b[0m │\n",
       "├─────────────────────────────────┼────────────────────────┼───────────────┤\n",
       "│ M1_Output (\u001b[38;5;33mDense\u001b[0m)               │ (\u001b[38;5;45mNone\u001b[0m, \u001b[38;5;34m10\u001b[0m)             │           \u001b[38;5;34m170\u001b[0m │\n",
       "└─────────────────────────────────┴────────────────────────┴───────────────┘\n"
      ]
     },
     "metadata": {},
     "output_type": "display_data"
    },
    {
     "data": {
      "text/html": [
       "<pre style=\"white-space:pre;overflow-x:auto;line-height:normal;font-family:Menlo,'DejaVu Sans Mono',consolas,'Courier New',monospace\"><span style=\"font-weight: bold\"> Total params: </span><span style=\"color: #00af00; text-decoration-color: #00af00\">402,810</span> (1.54 MB)\n",
       "</pre>\n"
      ],
      "text/plain": [
       "\u001b[1m Total params: \u001b[0m\u001b[38;5;34m402,810\u001b[0m (1.54 MB)\n"
      ]
     },
     "metadata": {},
     "output_type": "display_data"
    },
    {
     "data": {
      "text/html": [
       "<pre style=\"white-space:pre;overflow-x:auto;line-height:normal;font-family:Menlo,'DejaVu Sans Mono',consolas,'Courier New',monospace\"><span style=\"font-weight: bold\"> Trainable params: </span><span style=\"color: #00af00; text-decoration-color: #00af00\">402,810</span> (1.54 MB)\n",
       "</pre>\n"
      ],
      "text/plain": [
       "\u001b[1m Trainable params: \u001b[0m\u001b[38;5;34m402,810\u001b[0m (1.54 MB)\n"
      ]
     },
     "metadata": {},
     "output_type": "display_data"
    },
    {
     "data": {
      "text/html": [
       "<pre style=\"white-space:pre;overflow-x:auto;line-height:normal;font-family:Menlo,'DejaVu Sans Mono',consolas,'Courier New',monospace\"><span style=\"font-weight: bold\"> Non-trainable params: </span><span style=\"color: #00af00; text-decoration-color: #00af00\">0</span> (0.00 B)\n",
       "</pre>\n"
      ],
      "text/plain": [
       "\u001b[1m Non-trainable params: \u001b[0m\u001b[38;5;34m0\u001b[0m (0.00 B)\n"
      ]
     },
     "metadata": {},
     "output_type": "display_data"
    }
   ],
   "source": [
    "model_1.summary()"
   ]
  },
  {
   "cell_type": "markdown",
   "id": "96d38de4-036b-4b2c-b860-cce3d7bf7255",
   "metadata": {},
   "source": [
    "# TensorBoard (Visualising Learning)"
   ]
  },
  {
   "cell_type": "code",
   "execution_count": null,
   "id": "e91432d4-3d0f-4617-a100-e88ce0b943a8",
   "metadata": {},
   "outputs": [],
   "source": [
    "def get_tensorboard(model_name):\n",
    "    folder_name = f\"{model_name} as {strftime(\"%H %M\")}\"\n",
    "    dir_paths = os.path.join(LOG_DIR, folder_name)\n",
    "    try:\n",
    "        os.makedirs(dir_paths)\n",
    "    except OSError as error:\n",
    "        pass\n",
    "    else:\n",
    "        print(f\"Folder created {dir_paths}\")\n",
    "    return TensorBoard(log_dir=dir_paths)"
   ]
  },
  {
   "cell_type": "markdown",
   "id": "5887e91a-2701-4ee0-abaf-6a7ed4ff8833",
   "metadata": {},
   "source": [
    "# Fit the model."
   ]
  },
  {
   "cell_type": "code",
   "execution_count": null,
   "id": "49eee5d8-b276-4f49-9e3c-d7579b023e01",
   "metadata": {
    "scrolled": true
   },
   "outputs": [],
   "source": [
    "# %%time\n",
    "# semples_per_batch = 1000\n",
    "# nr_epochs = 150\n",
    "# model_1.fit(\n",
    "#     x=x_train_xs,\n",
    "#     y=y_train_xs,\n",
    "#     epochs=nr_epochs,\n",
    "#     batch_size=semples_per_batch,\n",
    "#     callbacks=[get_tensorboard(\"Model 1\")],\n",
    "#     verbose=2,\n",
    "#     validation_data=(x_val, y_val),\n",
    "# )"
   ]
  },
  {
   "cell_type": "code",
   "execution_count": 131,
   "id": "98083473-64c3-4156-a835-c020592993cd",
   "metadata": {
    "scrolled": true
   },
   "outputs": [
    {
     "name": "stdout",
     "output_type": "stream",
     "text": [
      "Folder created Tensorboard/Model 1 as 13 30\n",
      "CPU times: user 6min 20s, sys: 37.5 s, total: 6min 57s\n",
      "Wall time: 6min 48s\n"
     ]
    },
    {
     "data": {
      "text/plain": [
       "<keras.src.callbacks.history.History at 0x79240c1bdee0>"
      ]
     },
     "execution_count": 131,
     "metadata": {},
     "output_type": "execute_result"
    }
   ],
   "source": [
    "%%time\n",
    "semples_per_batch = 1000\n",
    "nr_epochs = 1000\n",
    "model_1.fit(\n",
    "    x=x_train,\n",
    "    y=y_train,\n",
    "    epochs=nr_epochs,\n",
    "    batch_size=semples_per_batch,\n",
    "    callbacks=[get_tensorboard(\"Model 1\")],\n",
    "    verbose=0,\n",
    "    validation_data=(x_val, y_val),\n",
    ")"
   ]
  },
  {
   "cell_type": "code",
   "execution_count": 132,
   "id": "eedadedb-5aac-4fff-b49f-92e37008c7c0",
   "metadata": {
    "scrolled": true
   },
   "outputs": [
    {
     "name": "stdout",
     "output_type": "stream",
     "text": [
      "Folder created Tensorboard/Model 2 as 13 37\n",
      "CPU times: user 7min 54s, sys: 45.8 s, total: 8min 40s\n",
      "Wall time: 8min 18s\n"
     ]
    },
    {
     "data": {
      "text/plain": [
       "<keras.src.callbacks.history.History at 0x79240c1bcce0>"
      ]
     },
     "execution_count": 132,
     "metadata": {},
     "output_type": "execute_result"
    }
   ],
   "source": [
    "%%time\n",
    "semples_per_batch = 1000\n",
    "nr_epochs = 1000\n",
    "model_2.fit(\n",
    "    x=x_train,\n",
    "    y=y_train,\n",
    "    epochs=nr_epochs,\n",
    "    batch_size=semples_per_batch,\n",
    "    callbacks=[get_tensorboard(\"Model 2\")],\n",
    "    verbose=0,\n",
    "    validation_data=(x_val, y_val),\n",
    ")"
   ]
  },
  {
   "cell_type": "code",
   "execution_count": 133,
   "id": "a868a3f5-9b4d-426e-b4b4-d38089e8ac78",
   "metadata": {
    "scrolled": true
   },
   "outputs": [
    {
     "name": "stdout",
     "output_type": "stream",
     "text": [
      "Folder created Tensorboard/Model 3 as 13 45\n",
      "CPU times: user 8min, sys: 46.8 s, total: 8min 47s\n",
      "Wall time: 8min 15s\n"
     ]
    },
    {
     "data": {
      "text/plain": [
       "<keras.src.callbacks.history.History at 0x79240c5194c0>"
      ]
     },
     "execution_count": 133,
     "metadata": {},
     "output_type": "execute_result"
    }
   ],
   "source": [
    "%%time\n",
    "semples_per_batch = 1000\n",
    "nr_epochs = 1000\n",
    "model_3.fit(\n",
    "    x=x_train,\n",
    "    y=y_train,\n",
    "    epochs=nr_epochs,\n",
    "    batch_size=semples_per_batch,\n",
    "    callbacks=[get_tensorboard(\"Model 3\")],\n",
    "    verbose=0,\n",
    "    validation_data=(x_val, y_val),\n",
    ")"
   ]
  },
  {
   "cell_type": "markdown",
   "id": "c15ca6a8-41d2-46bc-92cc-216dbe39bcaf",
   "metadata": {},
   "source": [
    "# Predictions on Indiviual Image."
   ]
  },
  {
   "cell_type": "code",
   "execution_count": 88,
   "id": "915171ca-9fcd-4f80-838a-7707c4accd14",
   "metadata": {},
   "outputs": [
    {
     "data": {
      "text/plain": [
       "array([0.23137255, 0.24313725, 0.24705882, ..., 0.48235294, 0.36078431,\n",
       "       0.28235294])"
      ]
     },
     "execution_count": 88,
     "metadata": {},
     "output_type": "execute_result"
    }
   ],
   "source": [
    "x_val[0]"
   ]
  },
  {
   "cell_type": "code",
   "execution_count": 90,
   "id": "b02f877a-ff16-4093-ab0f-011bc416adf7",
   "metadata": {},
   "outputs": [
    {
     "data": {
      "text/plain": [
       "(1, 3072)"
      ]
     },
     "execution_count": 90,
     "metadata": {},
     "output_type": "execute_result"
    }
   ],
   "source": [
    "test = np.expand_dims(x_val[0], axis=0)\n",
    "test.shape"
   ]
  },
  {
   "cell_type": "code",
   "execution_count": 100,
   "id": "396a04cf-ca81-4039-be0c-049812892a58",
   "metadata": {},
   "outputs": [],
   "source": [
    "np.set_printoptions(precision=3)"
   ]
  },
  {
   "cell_type": "code",
   "execution_count": 124,
   "id": "8041e903-ed3f-4b45-a066-07c3c0590c33",
   "metadata": {},
   "outputs": [
    {
     "name": "stdout",
     "output_type": "stream",
     "text": [
      "\u001b[1m1/1\u001b[0m \u001b[32m━━━━━━━━━━━━━━━━━━━━\u001b[0m\u001b[37m\u001b[0m \u001b[1m0s\u001b[0m 18ms/step\n"
     ]
    },
    {
     "data": {
      "text/plain": [
       "array([4])"
      ]
     },
     "execution_count": 124,
     "metadata": {},
     "output_type": "execute_result"
    }
   ],
   "source": [
    "prediction = model_2.predict(test)\n",
    "np.argmax(prediction, axis=1)"
   ]
  },
  {
   "cell_type": "code",
   "execution_count": 135,
   "id": "88e15076-f6e9-4e55-a02f-a73429c9ae59",
   "metadata": {},
   "outputs": [
    {
     "name": "stdout",
     "output_type": "stream",
     "text": [
      "\u001b[1m1/1\u001b[0m \u001b[32m━━━━━━━━━━━━━━━━━━━━\u001b[0m\u001b[37m\u001b[0m \u001b[1m0s\u001b[0m 20ms/step\n",
      "\u001b[1m1/1\u001b[0m \u001b[32m━━━━━━━━━━━━━━━━━━━━\u001b[0m\u001b[37m\u001b[0m \u001b[1m0s\u001b[0m 18ms/step\n",
      "\u001b[1m1/1\u001b[0m \u001b[32m━━━━━━━━━━━━━━━━━━━━\u001b[0m\u001b[37m\u001b[0m \u001b[1m0s\u001b[0m 17ms/step\n",
      "[[4.698e-06 1.630e-08 3.874e-03 6.301e-03 3.122e-03 2.988e-03 9.836e-01\n",
      "  1.346e-04 2.526e-08 1.718e-08]]\n",
      "[[0.177 0.01  0.083 0.034 0.109 0.031 0.409 0.141 0.003 0.002]]\n",
      "[[0.008 0.005 0.088 0.104 0.157 0.042 0.566 0.024 0.002 0.003]]\n",
      "[6]\n",
      "[6]\n",
      "[6]\n"
     ]
    }
   ],
   "source": [
    "pre_1 = model_1.predict(test)\n",
    "pre_2 = model_2.predict(test)\n",
    "pre_3 = model_3.predict(test)\n",
    "print(pre_1)\n",
    "print(pre_2)\n",
    "print(pre_3)\n",
    "print(np.argmax(pre_1, axis=1))\n",
    "print(np.argmax(pre_2, axis=1))\n",
    "print(np.argmax(pre_3, axis=1))"
   ]
  },
  {
   "cell_type": "code",
   "execution_count": 94,
   "id": "dcbf4c3b-8647-44a1-aa58-9aba8fb0b73a",
   "metadata": {},
   "outputs": [
    {
     "data": {
      "text/plain": [
       "array([6], dtype=uint8)"
      ]
     },
     "execution_count": 94,
     "metadata": {},
     "output_type": "execute_result"
    }
   ],
   "source": [
    "y_val[0]"
   ]
  },
  {
   "cell_type": "code",
   "execution_count": 144,
   "id": "41172e9f-f5f3-424b-8e74-d35b91bab169",
   "metadata": {},
   "outputs": [],
   "source": [
    "def predict_image(x,y,num:int=5):\n",
    "    if num > len(x_val):\n",
    "        raise ValueError(\"Not that much image.\")\n",
    "    for i in range(num):\n",
    "        test = np.expand_dims(x[i], axis=0)\n",
    "        pre_1 = model_1.predict(test, verbose=0)\n",
    "        pre_2 = model_2.predict(test, verbose=0)\n",
    "        pre_3 = model_3.predict(test, verbose=0)\n",
    "        prediction_1 = np.argmax(pre_1, axis=1)\n",
    "        prediction_2 = np.argmax(pre_2, axis=1)\n",
    "        prediction_3 = np.argmax(pre_3, axis=1)\n",
    "        print(f\"Model 1 :- Image {i}, Actual {y[i]}, Prediction {prediction_1}\")\n",
    "        print(f\"Model 2 :- Image {i}, Actual {y[i]}, Prediction {prediction_2}\")\n",
    "        print(f\"Model 3 :- Image {i}, Actual {y[i]}, Prediction {prediction_3}\\n\")"
   ]
  },
  {
   "cell_type": "code",
   "execution_count": 158,
   "id": "e20e8840-7912-4316-a3fe-d133a6b3c939",
   "metadata": {},
   "outputs": [
    {
     "name": "stdout",
     "output_type": "stream",
     "text": [
      "Model 1 :- Image 0, Actual [3], Prediction [8]\n",
      "Model 2 :- Image 0, Actual [3], Prediction [3]\n",
      "Model 3 :- Image 0, Actual [3], Prediction [4]\n",
      "\n",
      "Model 1 :- Image 1, Actual [8], Prediction [8]\n",
      "Model 2 :- Image 1, Actual [8], Prediction [8]\n",
      "Model 3 :- Image 1, Actual [8], Prediction [1]\n",
      "\n",
      "Model 1 :- Image 2, Actual [8], Prediction [8]\n",
      "Model 2 :- Image 2, Actual [8], Prediction [8]\n",
      "Model 3 :- Image 2, Actual [8], Prediction [8]\n",
      "\n",
      "Model 1 :- Image 3, Actual [0], Prediction [4]\n",
      "Model 2 :- Image 3, Actual [0], Prediction [0]\n",
      "Model 3 :- Image 3, Actual [0], Prediction [8]\n",
      "\n",
      "Model 1 :- Image 4, Actual [6], Prediction [4]\n",
      "Model 2 :- Image 4, Actual [6], Prediction [4]\n",
      "Model 3 :- Image 4, Actual [6], Prediction [4]\n",
      "\n",
      "Model 1 :- Image 5, Actual [6], Prediction [2]\n",
      "Model 2 :- Image 5, Actual [6], Prediction [6]\n",
      "Model 3 :- Image 5, Actual [6], Prediction [6]\n",
      "\n",
      "Model 1 :- Image 6, Actual [1], Prediction [3]\n",
      "Model 2 :- Image 6, Actual [1], Prediction [1]\n",
      "Model 3 :- Image 6, Actual [1], Prediction [0]\n",
      "\n",
      "Model 1 :- Image 7, Actual [6], Prediction [6]\n",
      "Model 2 :- Image 7, Actual [6], Prediction [6]\n",
      "Model 3 :- Image 7, Actual [6], Prediction [6]\n",
      "\n",
      "Model 1 :- Image 8, Actual [3], Prediction [5]\n",
      "Model 2 :- Image 8, Actual [3], Prediction [2]\n",
      "Model 3 :- Image 8, Actual [3], Prediction [2]\n",
      "\n",
      "Model 1 :- Image 9, Actual [1], Prediction [1]\n",
      "Model 2 :- Image 9, Actual [1], Prediction [1]\n",
      "Model 3 :- Image 9, Actual [1], Prediction [1]\n",
      "\n"
     ]
    }
   ],
   "source": [
    "predict_image(x_test, y_test, 10)"
   ]
  },
  {
   "cell_type": "code",
   "execution_count": 151,
   "id": "7af15bde-b474-4753-8f7e-985c0088ce59",
   "metadata": {},
   "outputs": [
    {
     "data": {
      "text/plain": [
       "['loss', 'compile_metrics']"
      ]
     },
     "execution_count": 151,
     "metadata": {},
     "output_type": "execute_result"
    }
   ],
   "source": [
    "model_2.metrics_names"
   ]
  },
  {
   "cell_type": "code",
   "execution_count": 161,
   "id": "56790c0d-5f08-4941-bf0f-d13ae3f5d6c8",
   "metadata": {},
   "outputs": [
    {
     "name": "stdout",
     "output_type": "stream",
     "text": [
      "Loss :- 1.4291149377822876\n",
      "Compile Metrics :- 0.5095000267028809\n"
     ]
    }
   ],
   "source": [
    "test_loss, test_compile_metrics = model_2.evaluate(x_test, y_test, verbose=0)\n",
    "print(f\"Loss :- {test_loss}\")\n",
    "print(f\"Compile Metrics :- {test_compile_metrics}\")"
   ]
  },
  {
   "cell_type": "markdown",
   "id": "4284ab38-8035-4f6d-a795-5ff0c8375431",
   "metadata": {},
   "source": [
    "### Confusion Matrix"
   ]
  },
  {
   "cell_type": "code",
   "execution_count": 169,
   "id": "40236af6-4506-4bab-aa21-0355a1e91138",
   "metadata": {},
   "outputs": [],
   "source": [
    "predict = np.argmax(model_2.predict(x_test, verbose=0), axis=1)\n",
    "conf_matrix = confusion_matrix(y_true = y_test, y_pred = predict)"
   ]
  },
  {
   "cell_type": "code",
   "execution_count": 170,
   "id": "da3daa67-708c-42f7-a9d5-839fa41fdc24",
   "metadata": {},
   "outputs": [
    {
     "data": {
      "text/plain": [
       "(10, 10)"
      ]
     },
     "execution_count": 170,
     "metadata": {},
     "output_type": "execute_result"
    }
   ],
   "source": [
    "conf_matrix.shape"
   ]
  },
  {
   "cell_type": "code",
   "execution_count": 171,
   "id": "6c7e5933-6b2c-434f-9d92-3b10afc053c6",
   "metadata": {},
   "outputs": [
    {
     "name": "stdout",
     "output_type": "stream",
     "text": [
      "[[583  32  50  27  19  15  30  38 160  46]\n",
      " [ 54 588  11  27   9  17  16  22  94 162]\n",
      " [ 89  16 423  65  97  88  98  77  29  18]\n",
      " [ 39  21  96 273  42 241 145  65  30  48]\n",
      " [ 63  10 174  50 360  60 125 115  31  12]\n",
      " [ 30   8  87 180  48 436  73  85  30  23]\n",
      " [ 11  11  93  81  80  58 609  27  19  11]\n",
      " [ 58  13  54  36  63  84  32 594  16  50]\n",
      " [100  72  12  24  12  26   9  13 678  54]\n",
      " [ 58 162  13  35   9  23  24  50  75 551]]\n"
     ]
    }
   ],
   "source": [
    "print(conf_matrix)"
   ]
  },
  {
   "cell_type": "code",
   "execution_count": 173,
   "id": "d426b828-0358-4d36-85c1-d730e7e93a73",
   "metadata": {},
   "outputs": [
    {
     "data": {
      "text/plain": [
       "678"
      ]
     },
     "execution_count": 173,
     "metadata": {},
     "output_type": "execute_result"
    }
   ],
   "source": [
    "conf_matrix.max()"
   ]
  },
  {
   "cell_type": "code",
   "execution_count": 193,
   "id": "0d04defa-3db5-4622-a73f-685d7c864a56",
   "metadata": {},
   "outputs": [],
   "source": [
    "conf_matrix.min()\n",
    "nr_conf_rows = conf_matrix.shape[0]\n",
    "nr_conf_cols = conf_matrix.shape[1]"
   ]
  },
  {
   "cell_type": "code",
   "execution_count": 200,
   "id": "2d14ddd5-5321-4152-950e-3a4e1be840d7",
   "metadata": {},
   "outputs": [
    {
     "data": {
      "image/png": "[encoded data removed]",
      "text/plain": [
       "<Figure size 1000x1000 with 2 Axes>"
      ]
     },
     "metadata": {},
     "output_type": "display_data"
    }
   ],
   "source": [
    "plt.figure(figsize=(10,10))\n",
    "plt.imshow(conf_matrix, cmap=plt.cm.Greens)\n",
    "plt.title(\"Confusion Matrix\", fontsize=16)\n",
    "tick_marks = np.arange(len(LABLES))\n",
    "plt.yticks(tick_marks, LABLES.values())\n",
    "plt.xticks(tick_marks, LABLES.values())\n",
    "plt.colorbar()\n",
    "for i,j in product(range(nr_conf_rows), range(nr_conf_cols)):\n",
    "    plt.text(x=i, y=j,s=conf_matrix[i][j], horizontalalignment=\"center\", color=\"white\" if conf_matrix[i,j] > conf_matrix.max()/2 else \"black\")\n",
    "    \n",
    "plt.show()"
   ]
  },
  {
   "cell_type": "code",
   "execution_count": 206,
   "id": "f2b5c533-242c-433b-816b-e6fc5f42804f",
   "metadata": {},
   "outputs": [],
   "source": [
    "true_true_conf_matrix = np.diag(conf_matrix)\n",
    "recall_conf_matrix = np.diag(conf_matrix) / np.sum(conf_matrix, axis=1) \n",
    "precision_conf_matrix = np.diag(conf_matrix) / np.sum(conf_matrix, axis=0) "
   ]
  },
  {
   "cell_type": "code",
   "execution_count": 207,
   "id": "17c1e3b7-9087-473b-aae2-67281018ec78",
   "metadata": {},
   "outputs": [
    {
     "name": "stdout",
     "output_type": "stream",
     "text": [
      "[0.583 0.588 0.423 0.273 0.36  0.436 0.609 0.594 0.678 0.551]\n",
      "[0.537 0.63  0.418 0.342 0.487 0.416 0.525 0.547 0.583 0.565]\n"
     ]
    }
   ],
   "source": [
    "print(recall_conf_matrix)\n",
    "print(precision_conf_matrix)"
   ]
  },
  {
   "cell_type": "code",
   "execution_count": 209,
   "id": "674d1ea2-c45f-4ab8-a3c9-eeaa0ac7481b",
   "metadata": {},
   "outputs": [
    {
     "name": "stdout",
     "output_type": "stream",
     "text": [
      "Model 2 Recall Score :- 50.95%\n",
      "Model 2 Precision Score :- 50.51%\n"
     ]
    }
   ],
   "source": [
    "average_recall_conf = np.mean(recall_conf_matrix)\n",
    "average_precision_conf = np.mean(precision_conf_matrix)\n",
    "print(f\"Model 2 Recall Score :- {average_recall_conf:.2%}\")\n",
    "print(f\"Model 2 Precision Score :- {average_precision_conf:.2%}\")"
   ]
  },
  {
   "cell_type": "code",
   "execution_count": 210,
   "id": "4b7e6993-9041-4f40-8d37-0d42c06a000d",
   "metadata": {},
   "outputs": [
    {
     "name": "stdout",
     "output_type": "stream",
     "text": [
      "Model 2 F Score :- 50.73%\n"
     ]
    }
   ],
   "source": [
    "f_score_conf_matrix = 2 * (average_precision_conf * average_recall_conf) / (average_precision_conf + average_recall_conf)\n",
    "print(f\"Model 2 F Score :- {f_score_conf_matrix:.2%}\")"
   ]
  },
  {
   "cell_type": "code",
   "execution_count": null,
   "id": "5e3fde24-8326-4fe4-b8c9-d4281ea093d8",
   "metadata": {},
   "outputs": [],
   "source": []
  }
 ],
 "metadata": {
  "kernelspec": {
   "display_name": "Python 3 (ipykernel)",
   "language": "python",
   "name": "python3"
  },
  "language_info": {
   "codemirror_mode": {
    "name": "ipython",
    "version": 3
   },
   "file_extension": ".py",
   "mimetype": "text/x-python",
   "name": "python",
   "nbconvert_exporter": "python",
   "pygments_lexer": "ipython3",
   "version": "3.12.2"
  },
  "panel-cell-order": [
   "f33e9b5b-0f8d-46b0-b8a6-d99b299568d9",
   "a641bcad-f203-4ddb-b94a-d1694a790dcb",
   "be788b85-0ea0-4dc1-b4de-8f47d2238091"
  ]
 },
 "nbformat": 4,
 "nbformat_minor": 5
}
